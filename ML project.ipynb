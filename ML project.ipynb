{
  "cells": [
    {
      "cell_type": "markdown",
      "metadata": {
        "id": "view-in-github",
        "colab_type": "text"
      },
      "source": [
        "<a href=\"https://colab.research.google.com/github/mifuha/MLpractice/blob/main/ML%20project.ipynb\" target=\"_parent\"><img src=\"https://colab.research.google.com/assets/colab-badge.svg\" alt=\"Open In Colab\"/></a>"
      ]
    },
    {
      "cell_type": "markdown",
      "metadata": {
        "id": "b-MeKKMs55WA"
      },
      "source": [
        "# Practical Machine Learning \n",
        "### Project: Model Selection"
      ]
    },
    {
      "cell_type": "markdown",
      "metadata": {
        "id": "FEge15Hl55WD"
      },
      "source": [
        "# Abstract"
      ]
    },
    {
      "cell_type": "markdown",
      "metadata": {
        "id": "rmJJOdz955WE"
      },
      "source": [
        "# Part 1: Business and Data Understanding"
      ]
    },
    {
      "cell_type": "markdown",
      "metadata": {
        "id": "K_EWcKs255WG"
      },
      "source": [
        "### Q. Identify a suitable dataset for your canditate question(s)"
      ]
    },
    {
      "cell_type": "markdown",
      "metadata": {
        "id": "NA2qaEL155WH"
      },
      "source": [
        "Go have a look at any of these websites:\n",
        "\n",
        "* https://www.kaggle.com/datasets \n",
        "* https://datasetsearch.research.google.com/\n",
        "* https://data.gov.uk/\n",
        "\n",
        "Find an interesting looking data set related to your problem domain and get a copy of it\n"
      ]
    },
    {
      "cell_type": "code",
      "execution_count": 107,
      "metadata": {
        "id": "HuoWXO_Q55WH",
        "colab": {
          "base_uri": "https://localhost:8080/",
          "height": 206
        },
        "outputId": "4d800e53-fa74-412d-bc64-16552cbe7e99"
      },
      "outputs": [
        {
          "output_type": "execute_result",
          "data": {
            "text/plain": [
              "   Serial_no Gender Python_exp  Experience_Years     Education Internship  \\\n",
              "0          1   Male        Yes               0.0      Graduate         No   \n",
              "1          2   Male         No               1.0      Graduate         No   \n",
              "2          3   Male         No               0.0      Graduate        Yes   \n",
              "3          4   Male         No               0.0  Not Graduate         No   \n",
              "4          5   Male        Yes               0.0      Graduate         No   \n",
              "\n",
              "   Score  Salary * 10E4  Offer_History Location Recruitment_Status  \n",
              "0   5139            0.0            1.0    Urban                  Y  \n",
              "1   4583          128.0            1.0    Rural                  N  \n",
              "2   3000           66.0            1.0    Urban                  Y  \n",
              "3   2583          120.0            1.0    Urban                  Y  \n",
              "4   6000          141.0            1.0    Urban                  Y  "
            ],
            "text/html": [
              "\n",
              "  <div id=\"df-27e29df5-acfc-4b91-95ef-a55014192d5e\">\n",
              "    <div class=\"colab-df-container\">\n",
              "      <div>\n",
              "<style scoped>\n",
              "    .dataframe tbody tr th:only-of-type {\n",
              "        vertical-align: middle;\n",
              "    }\n",
              "\n",
              "    .dataframe tbody tr th {\n",
              "        vertical-align: top;\n",
              "    }\n",
              "\n",
              "    .dataframe thead th {\n",
              "        text-align: right;\n",
              "    }\n",
              "</style>\n",
              "<table border=\"1\" class=\"dataframe\">\n",
              "  <thead>\n",
              "    <tr style=\"text-align: right;\">\n",
              "      <th></th>\n",
              "      <th>Serial_no</th>\n",
              "      <th>Gender</th>\n",
              "      <th>Python_exp</th>\n",
              "      <th>Experience_Years</th>\n",
              "      <th>Education</th>\n",
              "      <th>Internship</th>\n",
              "      <th>Score</th>\n",
              "      <th>Salary * 10E4</th>\n",
              "      <th>Offer_History</th>\n",
              "      <th>Location</th>\n",
              "      <th>Recruitment_Status</th>\n",
              "    </tr>\n",
              "  </thead>\n",
              "  <tbody>\n",
              "    <tr>\n",
              "      <th>0</th>\n",
              "      <td>1</td>\n",
              "      <td>Male</td>\n",
              "      <td>Yes</td>\n",
              "      <td>0.0</td>\n",
              "      <td>Graduate</td>\n",
              "      <td>No</td>\n",
              "      <td>5139</td>\n",
              "      <td>0.0</td>\n",
              "      <td>1.0</td>\n",
              "      <td>Urban</td>\n",
              "      <td>Y</td>\n",
              "    </tr>\n",
              "    <tr>\n",
              "      <th>1</th>\n",
              "      <td>2</td>\n",
              "      <td>Male</td>\n",
              "      <td>No</td>\n",
              "      <td>1.0</td>\n",
              "      <td>Graduate</td>\n",
              "      <td>No</td>\n",
              "      <td>4583</td>\n",
              "      <td>128.0</td>\n",
              "      <td>1.0</td>\n",
              "      <td>Rural</td>\n",
              "      <td>N</td>\n",
              "    </tr>\n",
              "    <tr>\n",
              "      <th>2</th>\n",
              "      <td>3</td>\n",
              "      <td>Male</td>\n",
              "      <td>No</td>\n",
              "      <td>0.0</td>\n",
              "      <td>Graduate</td>\n",
              "      <td>Yes</td>\n",
              "      <td>3000</td>\n",
              "      <td>66.0</td>\n",
              "      <td>1.0</td>\n",
              "      <td>Urban</td>\n",
              "      <td>Y</td>\n",
              "    </tr>\n",
              "    <tr>\n",
              "      <th>3</th>\n",
              "      <td>4</td>\n",
              "      <td>Male</td>\n",
              "      <td>No</td>\n",
              "      <td>0.0</td>\n",
              "      <td>Not Graduate</td>\n",
              "      <td>No</td>\n",
              "      <td>2583</td>\n",
              "      <td>120.0</td>\n",
              "      <td>1.0</td>\n",
              "      <td>Urban</td>\n",
              "      <td>Y</td>\n",
              "    </tr>\n",
              "    <tr>\n",
              "      <th>4</th>\n",
              "      <td>5</td>\n",
              "      <td>Male</td>\n",
              "      <td>Yes</td>\n",
              "      <td>0.0</td>\n",
              "      <td>Graduate</td>\n",
              "      <td>No</td>\n",
              "      <td>6000</td>\n",
              "      <td>141.0</td>\n",
              "      <td>1.0</td>\n",
              "      <td>Urban</td>\n",
              "      <td>Y</td>\n",
              "    </tr>\n",
              "  </tbody>\n",
              "</table>\n",
              "</div>\n",
              "      <button class=\"colab-df-convert\" onclick=\"convertToInteractive('df-27e29df5-acfc-4b91-95ef-a55014192d5e')\"\n",
              "              title=\"Convert this dataframe to an interactive table.\"\n",
              "              style=\"display:none;\">\n",
              "        \n",
              "  <svg xmlns=\"http://www.w3.org/2000/svg\" height=\"24px\"viewBox=\"0 0 24 24\"\n",
              "       width=\"24px\">\n",
              "    <path d=\"M0 0h24v24H0V0z\" fill=\"none\"/>\n",
              "    <path d=\"M18.56 5.44l.94 2.06.94-2.06 2.06-.94-2.06-.94-.94-2.06-.94 2.06-2.06.94zm-11 1L8.5 8.5l.94-2.06 2.06-.94-2.06-.94L8.5 2.5l-.94 2.06-2.06.94zm10 10l.94 2.06.94-2.06 2.06-.94-2.06-.94-.94-2.06-.94 2.06-2.06.94z\"/><path d=\"M17.41 7.96l-1.37-1.37c-.4-.4-.92-.59-1.43-.59-.52 0-1.04.2-1.43.59L10.3 9.45l-7.72 7.72c-.78.78-.78 2.05 0 2.83L4 21.41c.39.39.9.59 1.41.59.51 0 1.02-.2 1.41-.59l7.78-7.78 2.81-2.81c.8-.78.8-2.07 0-2.86zM5.41 20L4 18.59l7.72-7.72 1.47 1.35L5.41 20z\"/>\n",
              "  </svg>\n",
              "      </button>\n",
              "      \n",
              "  <style>\n",
              "    .colab-df-container {\n",
              "      display:flex;\n",
              "      flex-wrap:wrap;\n",
              "      gap: 12px;\n",
              "    }\n",
              "\n",
              "    .colab-df-convert {\n",
              "      background-color: #E8F0FE;\n",
              "      border: none;\n",
              "      border-radius: 50%;\n",
              "      cursor: pointer;\n",
              "      display: none;\n",
              "      fill: #1967D2;\n",
              "      height: 32px;\n",
              "      padding: 0 0 0 0;\n",
              "      width: 32px;\n",
              "    }\n",
              "\n",
              "    .colab-df-convert:hover {\n",
              "      background-color: #E2EBFA;\n",
              "      box-shadow: 0px 1px 2px rgba(60, 64, 67, 0.3), 0px 1px 3px 1px rgba(60, 64, 67, 0.15);\n",
              "      fill: #174EA6;\n",
              "    }\n",
              "\n",
              "    [theme=dark] .colab-df-convert {\n",
              "      background-color: #3B4455;\n",
              "      fill: #D2E3FC;\n",
              "    }\n",
              "\n",
              "    [theme=dark] .colab-df-convert:hover {\n",
              "      background-color: #434B5C;\n",
              "      box-shadow: 0px 1px 3px 1px rgba(0, 0, 0, 0.15);\n",
              "      filter: drop-shadow(0px 1px 2px rgba(0, 0, 0, 0.3));\n",
              "      fill: #FFFFFF;\n",
              "    }\n",
              "  </style>\n",
              "\n",
              "      <script>\n",
              "        const buttonEl =\n",
              "          document.querySelector('#df-27e29df5-acfc-4b91-95ef-a55014192d5e button.colab-df-convert');\n",
              "        buttonEl.style.display =\n",
              "          google.colab.kernel.accessAllowed ? 'block' : 'none';\n",
              "\n",
              "        async function convertToInteractive(key) {\n",
              "          const element = document.querySelector('#df-27e29df5-acfc-4b91-95ef-a55014192d5e');\n",
              "          const dataTable =\n",
              "            await google.colab.kernel.invokeFunction('convertToInteractive',\n",
              "                                                     [key], {});\n",
              "          if (!dataTable) return;\n",
              "\n",
              "          const docLinkHtml = 'Like what you see? Visit the ' +\n",
              "            '<a target=\"_blank\" href=https://colab.research.google.com/notebooks/data_table.ipynb>data table notebook</a>'\n",
              "            + ' to learn more about interactive tables.';\n",
              "          element.innerHTML = '';\n",
              "          dataTable['output_type'] = 'display_data';\n",
              "          await google.colab.output.renderOutput(dataTable, element);\n",
              "          const docLink = document.createElement('div');\n",
              "          docLink.innerHTML = docLinkHtml;\n",
              "          element.appendChild(docLink);\n",
              "        }\n",
              "      </script>\n",
              "    </div>\n",
              "  </div>\n",
              "  "
            ]
          },
          "metadata": {},
          "execution_count": 107
        }
      ],
      "source": [
        "\n",
        "import numpy as np\n",
        "import matplotlib.pyplot as plt\n",
        "import pandas as pd\n",
        "df = pd.read_csv('https://raw.githubusercontent.com/mifuha/MLpractice/main/recruitment_decision_tree.csv')\n",
        "df.head()\n",
        "\n"
      ]
    },
    {
      "cell_type": "markdown",
      "metadata": {
        "id": "t6sxB-Op55WF"
      },
      "source": [
        "### Q. Define the problem domain"
      ]
    },
    {
      "cell_type": "code",
      "execution_count": 108,
      "metadata": {
        "id": "KGICUusQ55WF"
      },
      "outputs": [],
      "source": [
        "# Useful for analysing and predicting recruitment outcomes on the basis of different variables \n",
        "\n",
        "#\"Recruitment_Status\", which indicates  a classificaion problem (if a person has been hired or not) is going to be our label column. \n",
        "#We are trying different ML models to see the best fit for predicting the outcome (Y/N) on the basis of the most relevant featueres or indepndant variables. \n"
      ]
    },
    {
      "cell_type": "markdown",
      "metadata": {
        "id": "PasUNESl55WG"
      },
      "source": [
        "### Q. Identify candidate questions for your machine learning project"
      ]
    },
    {
      "cell_type": "code",
      "execution_count": 109,
      "metadata": {
        "id": "MgdRmrtq55WG"
      },
      "outputs": [],
      "source": [
        "\n",
        "#The dataset includes a mix of discrete and continuous numerical values as well as categorical values. That is why before the training\n",
        "#we will need to prepare and clean our data, do some One-hot or label encoding and potinetially remove any numerical outliers or classify them into subgroups.\n"
      ]
    },
    {
      "cell_type": "code",
      "source": [
        "df.shape"
      ],
      "metadata": {
        "colab": {
          "base_uri": "https://localhost:8080/"
        },
        "id": "lhOqLgRwrgPy",
        "outputId": "fa854d62-dcea-4e3c-8de6-ac62c995abd9"
      },
      "execution_count": 110,
      "outputs": [
        {
          "output_type": "execute_result",
          "data": {
            "text/plain": [
              "(614, 11)"
            ]
          },
          "metadata": {},
          "execution_count": 110
        }
      ]
    },
    {
      "cell_type": "code",
      "source": [
        "df.columns"
      ],
      "metadata": {
        "colab": {
          "base_uri": "https://localhost:8080/"
        },
        "id": "PZnwl_uLrmrb",
        "outputId": "acf7f040-6811-4cf6-e19a-f6007f5a4695"
      },
      "execution_count": 111,
      "outputs": [
        {
          "output_type": "execute_result",
          "data": {
            "text/plain": [
              "Index(['Serial_no', 'Gender', 'Python_exp', 'Experience_Years', 'Education',\n",
              "       'Internship', 'Score', 'Salary * 10E4', 'Offer_History', 'Location',\n",
              "       'Recruitment_Status'],\n",
              "      dtype='object')"
            ]
          },
          "metadata": {},
          "execution_count": 111
        }
      ]
    },
    {
      "cell_type": "code",
      "source": [
        "df.describe().T"
      ],
      "metadata": {
        "colab": {
          "base_uri": "https://localhost:8080/",
          "height": 206
        },
        "id": "33_8TTyOrvXr",
        "outputId": "ca6568e0-b983-4212-dde1-409e9d4926d3"
      },
      "execution_count": 112,
      "outputs": [
        {
          "output_type": "execute_result",
          "data": {
            "text/plain": [
              "                  count         mean          std    min      25%     50%  \\\n",
              "Serial_no         614.0   307.500000   177.390811    1.0   154.25   307.5   \n",
              "Experience_Years  599.0     0.762938     1.015216    0.0     0.00     0.0   \n",
              "Score             614.0  5402.302932  6109.024398  150.0  2877.50  3812.5   \n",
              "Salary * 10E4     593.0   146.165261    85.726110    0.0   100.00   128.0   \n",
              "Offer_History     564.0     0.842199     0.364878    0.0     1.00     1.0   \n",
              "\n",
              "                      75%      max  \n",
              "Serial_no          460.75    614.0  \n",
              "Experience_Years     2.00      3.0  \n",
              "Score             5771.50  81000.0  \n",
              "Salary * 10E4      168.00    700.0  \n",
              "Offer_History        1.00      1.0  "
            ],
            "text/html": [
              "\n",
              "  <div id=\"df-a6900e73-7f3e-4911-97cb-6f0b373595f2\">\n",
              "    <div class=\"colab-df-container\">\n",
              "      <div>\n",
              "<style scoped>\n",
              "    .dataframe tbody tr th:only-of-type {\n",
              "        vertical-align: middle;\n",
              "    }\n",
              "\n",
              "    .dataframe tbody tr th {\n",
              "        vertical-align: top;\n",
              "    }\n",
              "\n",
              "    .dataframe thead th {\n",
              "        text-align: right;\n",
              "    }\n",
              "</style>\n",
              "<table border=\"1\" class=\"dataframe\">\n",
              "  <thead>\n",
              "    <tr style=\"text-align: right;\">\n",
              "      <th></th>\n",
              "      <th>count</th>\n",
              "      <th>mean</th>\n",
              "      <th>std</th>\n",
              "      <th>min</th>\n",
              "      <th>25%</th>\n",
              "      <th>50%</th>\n",
              "      <th>75%</th>\n",
              "      <th>max</th>\n",
              "    </tr>\n",
              "  </thead>\n",
              "  <tbody>\n",
              "    <tr>\n",
              "      <th>Serial_no</th>\n",
              "      <td>614.0</td>\n",
              "      <td>307.500000</td>\n",
              "      <td>177.390811</td>\n",
              "      <td>1.0</td>\n",
              "      <td>154.25</td>\n",
              "      <td>307.5</td>\n",
              "      <td>460.75</td>\n",
              "      <td>614.0</td>\n",
              "    </tr>\n",
              "    <tr>\n",
              "      <th>Experience_Years</th>\n",
              "      <td>599.0</td>\n",
              "      <td>0.762938</td>\n",
              "      <td>1.015216</td>\n",
              "      <td>0.0</td>\n",
              "      <td>0.00</td>\n",
              "      <td>0.0</td>\n",
              "      <td>2.00</td>\n",
              "      <td>3.0</td>\n",
              "    </tr>\n",
              "    <tr>\n",
              "      <th>Score</th>\n",
              "      <td>614.0</td>\n",
              "      <td>5402.302932</td>\n",
              "      <td>6109.024398</td>\n",
              "      <td>150.0</td>\n",
              "      <td>2877.50</td>\n",
              "      <td>3812.5</td>\n",
              "      <td>5771.50</td>\n",
              "      <td>81000.0</td>\n",
              "    </tr>\n",
              "    <tr>\n",
              "      <th>Salary * 10E4</th>\n",
              "      <td>593.0</td>\n",
              "      <td>146.165261</td>\n",
              "      <td>85.726110</td>\n",
              "      <td>0.0</td>\n",
              "      <td>100.00</td>\n",
              "      <td>128.0</td>\n",
              "      <td>168.00</td>\n",
              "      <td>700.0</td>\n",
              "    </tr>\n",
              "    <tr>\n",
              "      <th>Offer_History</th>\n",
              "      <td>564.0</td>\n",
              "      <td>0.842199</td>\n",
              "      <td>0.364878</td>\n",
              "      <td>0.0</td>\n",
              "      <td>1.00</td>\n",
              "      <td>1.0</td>\n",
              "      <td>1.00</td>\n",
              "      <td>1.0</td>\n",
              "    </tr>\n",
              "  </tbody>\n",
              "</table>\n",
              "</div>\n",
              "      <button class=\"colab-df-convert\" onclick=\"convertToInteractive('df-a6900e73-7f3e-4911-97cb-6f0b373595f2')\"\n",
              "              title=\"Convert this dataframe to an interactive table.\"\n",
              "              style=\"display:none;\">\n",
              "        \n",
              "  <svg xmlns=\"http://www.w3.org/2000/svg\" height=\"24px\"viewBox=\"0 0 24 24\"\n",
              "       width=\"24px\">\n",
              "    <path d=\"M0 0h24v24H0V0z\" fill=\"none\"/>\n",
              "    <path d=\"M18.56 5.44l.94 2.06.94-2.06 2.06-.94-2.06-.94-.94-2.06-.94 2.06-2.06.94zm-11 1L8.5 8.5l.94-2.06 2.06-.94-2.06-.94L8.5 2.5l-.94 2.06-2.06.94zm10 10l.94 2.06.94-2.06 2.06-.94-2.06-.94-.94-2.06-.94 2.06-2.06.94z\"/><path d=\"M17.41 7.96l-1.37-1.37c-.4-.4-.92-.59-1.43-.59-.52 0-1.04.2-1.43.59L10.3 9.45l-7.72 7.72c-.78.78-.78 2.05 0 2.83L4 21.41c.39.39.9.59 1.41.59.51 0 1.02-.2 1.41-.59l7.78-7.78 2.81-2.81c.8-.78.8-2.07 0-2.86zM5.41 20L4 18.59l7.72-7.72 1.47 1.35L5.41 20z\"/>\n",
              "  </svg>\n",
              "      </button>\n",
              "      \n",
              "  <style>\n",
              "    .colab-df-container {\n",
              "      display:flex;\n",
              "      flex-wrap:wrap;\n",
              "      gap: 12px;\n",
              "    }\n",
              "\n",
              "    .colab-df-convert {\n",
              "      background-color: #E8F0FE;\n",
              "      border: none;\n",
              "      border-radius: 50%;\n",
              "      cursor: pointer;\n",
              "      display: none;\n",
              "      fill: #1967D2;\n",
              "      height: 32px;\n",
              "      padding: 0 0 0 0;\n",
              "      width: 32px;\n",
              "    }\n",
              "\n",
              "    .colab-df-convert:hover {\n",
              "      background-color: #E2EBFA;\n",
              "      box-shadow: 0px 1px 2px rgba(60, 64, 67, 0.3), 0px 1px 3px 1px rgba(60, 64, 67, 0.15);\n",
              "      fill: #174EA6;\n",
              "    }\n",
              "\n",
              "    [theme=dark] .colab-df-convert {\n",
              "      background-color: #3B4455;\n",
              "      fill: #D2E3FC;\n",
              "    }\n",
              "\n",
              "    [theme=dark] .colab-df-convert:hover {\n",
              "      background-color: #434B5C;\n",
              "      box-shadow: 0px 1px 3px 1px rgba(0, 0, 0, 0.15);\n",
              "      filter: drop-shadow(0px 1px 2px rgba(0, 0, 0, 0.3));\n",
              "      fill: #FFFFFF;\n",
              "    }\n",
              "  </style>\n",
              "\n",
              "      <script>\n",
              "        const buttonEl =\n",
              "          document.querySelector('#df-a6900e73-7f3e-4911-97cb-6f0b373595f2 button.colab-df-convert');\n",
              "        buttonEl.style.display =\n",
              "          google.colab.kernel.accessAllowed ? 'block' : 'none';\n",
              "\n",
              "        async function convertToInteractive(key) {\n",
              "          const element = document.querySelector('#df-a6900e73-7f3e-4911-97cb-6f0b373595f2');\n",
              "          const dataTable =\n",
              "            await google.colab.kernel.invokeFunction('convertToInteractive',\n",
              "                                                     [key], {});\n",
              "          if (!dataTable) return;\n",
              "\n",
              "          const docLinkHtml = 'Like what you see? Visit the ' +\n",
              "            '<a target=\"_blank\" href=https://colab.research.google.com/notebooks/data_table.ipynb>data table notebook</a>'\n",
              "            + ' to learn more about interactive tables.';\n",
              "          element.innerHTML = '';\n",
              "          dataTable['output_type'] = 'display_data';\n",
              "          await google.colab.output.renderOutput(dataTable, element);\n",
              "          const docLink = document.createElement('div');\n",
              "          docLink.innerHTML = docLinkHtml;\n",
              "          element.appendChild(docLink);\n",
              "        }\n",
              "      </script>\n",
              "    </div>\n",
              "  </div>\n",
              "  "
            ]
          },
          "metadata": {},
          "execution_count": 112
        }
      ]
    },
    {
      "cell_type": "markdown",
      "metadata": {
        "id": "zsCo6Gmf55WH"
      },
      "source": [
        "### Q. Generate a descriptive statistics report for the columns in your dataset"
      ]
    },
    {
      "cell_type": "code",
      "execution_count": 113,
      "metadata": {
        "id": "1uvJKQH755WH",
        "colab": {
          "base_uri": "https://localhost:8080/"
        },
        "outputId": "de821401-4362-404d-e605-7893984807aa"
      },
      "outputs": [
        {
          "output_type": "execute_result",
          "data": {
            "text/plain": [
              "Male      489\n",
              "Female    112\n",
              "Name: Gender, dtype: int64"
            ]
          },
          "metadata": {},
          "execution_count": 113
        }
      ],
      "source": [
        "df['Gender'].value_counts()"
      ]
    },
    {
      "cell_type": "markdown",
      "metadata": {
        "id": "toYhhJ4v55WI"
      },
      "source": [
        "# Part 2: Data Preparation"
      ]
    },
    {
      "cell_type": "markdown",
      "metadata": {
        "id": "zUDh9O2T55WI"
      },
      "source": [
        "### Q. Discuss the following types of missing data and how they would be handled in reference to your dataset where applicable.\n",
        "*\tMissing completely at random (MCAR)\n",
        "*\tMissing at random (MAR)\n",
        "*\tMissing Not at Random (MNAR)"
      ]
    },
    {
      "cell_type": "code",
      "execution_count": 114,
      "metadata": {
        "id": "u0IiUxwR55WI",
        "colab": {
          "base_uri": "https://localhost:8080/"
        },
        "outputId": "e6face43-f3dd-4123-fc43-041f7eb1c40c"
      },
      "outputs": [
        {
          "output_type": "stream",
          "name": "stdout",
          "text": [
            "<class 'pandas.core.frame.DataFrame'>\n",
            "RangeIndex: 614 entries, 0 to 613\n",
            "Data columns (total 11 columns):\n",
            " #   Column              Non-Null Count  Dtype  \n",
            "---  ------              --------------  -----  \n",
            " 0   Serial_no           614 non-null    int64  \n",
            " 1   Gender              601 non-null    object \n",
            " 2   Python_exp          611 non-null    object \n",
            " 3   Experience_Years    599 non-null    float64\n",
            " 4   Education           614 non-null    object \n",
            " 5   Internship          582 non-null    object \n",
            " 6   Score               614 non-null    int64  \n",
            " 7   Salary * 10E4       593 non-null    float64\n",
            " 8   Offer_History       564 non-null    float64\n",
            " 9   Location            614 non-null    object \n",
            " 10  Recruitment_Status  614 non-null    object \n",
            "dtypes: float64(3), int64(2), object(6)\n",
            "memory usage: 52.9+ KB\n"
          ]
        }
      ],
      "source": [
        "df.info()"
      ]
    },
    {
      "cell_type": "code",
      "source": [
        "df.isnull().sum()\n",
        "#a few missing values indentified, which will be replaced with in the next step according to different criteria. "
      ],
      "metadata": {
        "colab": {
          "base_uri": "https://localhost:8080/"
        },
        "id": "MeF1Y3DzxXbB",
        "outputId": "410728c7-23d7-4ccb-dec4-ccb354c1e2a2"
      },
      "execution_count": 115,
      "outputs": [
        {
          "output_type": "execute_result",
          "data": {
            "text/plain": [
              "Serial_no              0\n",
              "Gender                13\n",
              "Python_exp             3\n",
              "Experience_Years      15\n",
              "Education              0\n",
              "Internship            32\n",
              "Score                  0\n",
              "Salary * 10E4         21\n",
              "Offer_History         50\n",
              "Location               0\n",
              "Recruitment_Status     0\n",
              "dtype: int64"
            ]
          },
          "metadata": {},
          "execution_count": 115
        }
      ]
    },
    {
      "cell_type": "code",
      "source": [
        "#Replacing the missing values before encoding categorical values\n",
        "df['Gender'].fillna('Female', inplace=True)\n",
        "\n",
        "df['Experience_Years'].fillna(0, inplace=True)\n",
        "\n",
        "df['Python_exp'].fillna(0, inplace=True)\n",
        "\n",
        "df['Offer_History'].fillna(1, inplace=True)\n",
        "\n",
        "df['Internship'].fillna(1, inplace=True)\n",
        "\n",
        "df['Salary * 10E4'].fillna(np.mean(df['Salary * 10E4']), inplace=True)\n",
        "\n",
        "\n"
      ],
      "metadata": {
        "id": "2E7mRViE9koH"
      },
      "execution_count": 116,
      "outputs": []
    },
    {
      "cell_type": "code",
      "source": [
        "df.isnull().sum()"
      ],
      "metadata": {
        "id": "LIfwWv0nZpfw",
        "outputId": "79093771-3c7c-48d4-82d2-cb74525af6a0",
        "colab": {
          "base_uri": "https://localhost:8080/"
        }
      },
      "execution_count": 117,
      "outputs": [
        {
          "output_type": "execute_result",
          "data": {
            "text/plain": [
              "Serial_no             0\n",
              "Gender                0\n",
              "Python_exp            0\n",
              "Experience_Years      0\n",
              "Education             0\n",
              "Internship            0\n",
              "Score                 0\n",
              "Salary * 10E4         0\n",
              "Offer_History         0\n",
              "Location              0\n",
              "Recruitment_Status    0\n",
              "dtype: int64"
            ]
          },
          "metadata": {},
          "execution_count": 117
        }
      ]
    },
    {
      "cell_type": "code",
      "source": [
        "df.drop(['Serial_no'], axis=1, inplace=True)"
      ],
      "metadata": {
        "id": "oha3t0cSumde"
      },
      "execution_count": 118,
      "outputs": []
    },
    {
      "cell_type": "markdown",
      "source": [
        "Q. Is there any correlation in the data? How would you decide which columns to keep?"
      ],
      "metadata": {
        "id": "Z-_eDG2e_C2W"
      }
    },
    {
      "cell_type": "code",
      "source": [
        "#Before looking at the correlations I need to preparea clean the data \n",
        "#Replace yes/no values with binary numerical values\n",
        "\n",
        "df['Python_exp'].value_counts()\n",
        "df['Python_exp'] = df['Python_exp'].apply(lambda x: 1 if x == \"Yes\" else 0)\n",
        "\n"
      ],
      "metadata": {
        "id": "_eRjAQ6u_CHm"
      },
      "execution_count": 119,
      "outputs": []
    },
    {
      "cell_type": "code",
      "source": [
        "#replace categorical values with binary numerical values\n",
        "df['Education'].value_counts()\n",
        "df['Education'] = df['Education'].apply(lambda x: 1 if x == \"Graduate\" else 0)"
      ],
      "metadata": {
        "id": "gnbgQ4VEvudp"
      },
      "execution_count": 120,
      "outputs": []
    },
    {
      "cell_type": "code",
      "source": [
        "#replace categorical values with binary numerical values\n",
        "df['Internship'] = df['Internship'].apply(lambda x: 1 if x == \"Yes\" else 0)"
      ],
      "metadata": {
        "id": "mQsPs1z3wYIX"
      },
      "execution_count": 121,
      "outputs": []
    },
    {
      "cell_type": "code",
      "source": [
        "#replace categorical values with binary numerical values\n",
        "df['Gender'] = df['Gender'].apply(lambda x: 1 if x== \"Male\" else 0)"
      ],
      "metadata": {
        "id": "3eaxymKZxJTr"
      },
      "execution_count": 122,
      "outputs": []
    },
    {
      "cell_type": "code",
      "source": [
        "\n",
        "#Performing dummies encoding for categorical value 'Location'.\n",
        "\n",
        "dummies = pd.get_dummies(df[['Location']])\n",
        "df = pd.concat([df, dummies], axis=1)\n"
      ],
      "metadata": {
        "id": "4WDOMHcPwk79"
      },
      "execution_count": 123,
      "outputs": []
    },
    {
      "cell_type": "code",
      "source": [
        "df"
      ],
      "metadata": {
        "colab": {
          "base_uri": "https://localhost:8080/",
          "height": 505
        },
        "id": "LZdWUWEMBt7Y",
        "outputId": "88bc8de7-c2bb-46f2-aee7-1188e5b0d743"
      },
      "execution_count": 124,
      "outputs": [
        {
          "output_type": "execute_result",
          "data": {
            "text/plain": [
              "     Gender  Python_exp  Experience_Years  Education  Internship  Score  \\\n",
              "0         1           1               0.0          1           0   5139   \n",
              "1         1           0               1.0          1           0   4583   \n",
              "2         1           0               0.0          1           1   3000   \n",
              "3         1           0               0.0          0           0   2583   \n",
              "4         1           1               0.0          1           0   6000   \n",
              "..      ...         ...               ...        ...         ...    ...   \n",
              "609       0           1               0.0          1           0   2900   \n",
              "610       1           0               3.0          1           0   4106   \n",
              "611       1           0               1.0          1           0   8072   \n",
              "612       1           0               2.0          1           0   7583   \n",
              "613       0           1               0.0          1           1   4583   \n",
              "\n",
              "     Salary * 10E4  Offer_History   Location Recruitment_Status  \\\n",
              "0              0.0            1.0      Urban                  Y   \n",
              "1            128.0            1.0      Rural                  N   \n",
              "2             66.0            1.0      Urban                  Y   \n",
              "3            120.0            1.0      Urban                  Y   \n",
              "4            141.0            1.0      Urban                  Y   \n",
              "..             ...            ...        ...                ...   \n",
              "609           71.0            1.0      Rural                  Y   \n",
              "610           40.0            1.0      Rural                  Y   \n",
              "611          253.0            1.0      Urban                  Y   \n",
              "612          187.0            1.0      Urban                  Y   \n",
              "613          133.0            0.0  Semiurban                  N   \n",
              "\n",
              "     Location_Rural  Location_Semiurban  Location_Urban  \n",
              "0                 0                   0               1  \n",
              "1                 1                   0               0  \n",
              "2                 0                   0               1  \n",
              "3                 0                   0               1  \n",
              "4                 0                   0               1  \n",
              "..              ...                 ...             ...  \n",
              "609               1                   0               0  \n",
              "610               1                   0               0  \n",
              "611               0                   0               1  \n",
              "612               0                   0               1  \n",
              "613               0                   1               0  \n",
              "\n",
              "[614 rows x 13 columns]"
            ],
            "text/html": [
              "\n",
              "  <div id=\"df-26566999-8964-4646-adfb-ae67abd79c42\">\n",
              "    <div class=\"colab-df-container\">\n",
              "      <div>\n",
              "<style scoped>\n",
              "    .dataframe tbody tr th:only-of-type {\n",
              "        vertical-align: middle;\n",
              "    }\n",
              "\n",
              "    .dataframe tbody tr th {\n",
              "        vertical-align: top;\n",
              "    }\n",
              "\n",
              "    .dataframe thead th {\n",
              "        text-align: right;\n",
              "    }\n",
              "</style>\n",
              "<table border=\"1\" class=\"dataframe\">\n",
              "  <thead>\n",
              "    <tr style=\"text-align: right;\">\n",
              "      <th></th>\n",
              "      <th>Gender</th>\n",
              "      <th>Python_exp</th>\n",
              "      <th>Experience_Years</th>\n",
              "      <th>Education</th>\n",
              "      <th>Internship</th>\n",
              "      <th>Score</th>\n",
              "      <th>Salary * 10E4</th>\n",
              "      <th>Offer_History</th>\n",
              "      <th>Location</th>\n",
              "      <th>Recruitment_Status</th>\n",
              "      <th>Location_Rural</th>\n",
              "      <th>Location_Semiurban</th>\n",
              "      <th>Location_Urban</th>\n",
              "    </tr>\n",
              "  </thead>\n",
              "  <tbody>\n",
              "    <tr>\n",
              "      <th>0</th>\n",
              "      <td>1</td>\n",
              "      <td>1</td>\n",
              "      <td>0.0</td>\n",
              "      <td>1</td>\n",
              "      <td>0</td>\n",
              "      <td>5139</td>\n",
              "      <td>0.0</td>\n",
              "      <td>1.0</td>\n",
              "      <td>Urban</td>\n",
              "      <td>Y</td>\n",
              "      <td>0</td>\n",
              "      <td>0</td>\n",
              "      <td>1</td>\n",
              "    </tr>\n",
              "    <tr>\n",
              "      <th>1</th>\n",
              "      <td>1</td>\n",
              "      <td>0</td>\n",
              "      <td>1.0</td>\n",
              "      <td>1</td>\n",
              "      <td>0</td>\n",
              "      <td>4583</td>\n",
              "      <td>128.0</td>\n",
              "      <td>1.0</td>\n",
              "      <td>Rural</td>\n",
              "      <td>N</td>\n",
              "      <td>1</td>\n",
              "      <td>0</td>\n",
              "      <td>0</td>\n",
              "    </tr>\n",
              "    <tr>\n",
              "      <th>2</th>\n",
              "      <td>1</td>\n",
              "      <td>0</td>\n",
              "      <td>0.0</td>\n",
              "      <td>1</td>\n",
              "      <td>1</td>\n",
              "      <td>3000</td>\n",
              "      <td>66.0</td>\n",
              "      <td>1.0</td>\n",
              "      <td>Urban</td>\n",
              "      <td>Y</td>\n",
              "      <td>0</td>\n",
              "      <td>0</td>\n",
              "      <td>1</td>\n",
              "    </tr>\n",
              "    <tr>\n",
              "      <th>3</th>\n",
              "      <td>1</td>\n",
              "      <td>0</td>\n",
              "      <td>0.0</td>\n",
              "      <td>0</td>\n",
              "      <td>0</td>\n",
              "      <td>2583</td>\n",
              "      <td>120.0</td>\n",
              "      <td>1.0</td>\n",
              "      <td>Urban</td>\n",
              "      <td>Y</td>\n",
              "      <td>0</td>\n",
              "      <td>0</td>\n",
              "      <td>1</td>\n",
              "    </tr>\n",
              "    <tr>\n",
              "      <th>4</th>\n",
              "      <td>1</td>\n",
              "      <td>1</td>\n",
              "      <td>0.0</td>\n",
              "      <td>1</td>\n",
              "      <td>0</td>\n",
              "      <td>6000</td>\n",
              "      <td>141.0</td>\n",
              "      <td>1.0</td>\n",
              "      <td>Urban</td>\n",
              "      <td>Y</td>\n",
              "      <td>0</td>\n",
              "      <td>0</td>\n",
              "      <td>1</td>\n",
              "    </tr>\n",
              "    <tr>\n",
              "      <th>...</th>\n",
              "      <td>...</td>\n",
              "      <td>...</td>\n",
              "      <td>...</td>\n",
              "      <td>...</td>\n",
              "      <td>...</td>\n",
              "      <td>...</td>\n",
              "      <td>...</td>\n",
              "      <td>...</td>\n",
              "      <td>...</td>\n",
              "      <td>...</td>\n",
              "      <td>...</td>\n",
              "      <td>...</td>\n",
              "      <td>...</td>\n",
              "    </tr>\n",
              "    <tr>\n",
              "      <th>609</th>\n",
              "      <td>0</td>\n",
              "      <td>1</td>\n",
              "      <td>0.0</td>\n",
              "      <td>1</td>\n",
              "      <td>0</td>\n",
              "      <td>2900</td>\n",
              "      <td>71.0</td>\n",
              "      <td>1.0</td>\n",
              "      <td>Rural</td>\n",
              "      <td>Y</td>\n",
              "      <td>1</td>\n",
              "      <td>0</td>\n",
              "      <td>0</td>\n",
              "    </tr>\n",
              "    <tr>\n",
              "      <th>610</th>\n",
              "      <td>1</td>\n",
              "      <td>0</td>\n",
              "      <td>3.0</td>\n",
              "      <td>1</td>\n",
              "      <td>0</td>\n",
              "      <td>4106</td>\n",
              "      <td>40.0</td>\n",
              "      <td>1.0</td>\n",
              "      <td>Rural</td>\n",
              "      <td>Y</td>\n",
              "      <td>1</td>\n",
              "      <td>0</td>\n",
              "      <td>0</td>\n",
              "    </tr>\n",
              "    <tr>\n",
              "      <th>611</th>\n",
              "      <td>1</td>\n",
              "      <td>0</td>\n",
              "      <td>1.0</td>\n",
              "      <td>1</td>\n",
              "      <td>0</td>\n",
              "      <td>8072</td>\n",
              "      <td>253.0</td>\n",
              "      <td>1.0</td>\n",
              "      <td>Urban</td>\n",
              "      <td>Y</td>\n",
              "      <td>0</td>\n",
              "      <td>0</td>\n",
              "      <td>1</td>\n",
              "    </tr>\n",
              "    <tr>\n",
              "      <th>612</th>\n",
              "      <td>1</td>\n",
              "      <td>0</td>\n",
              "      <td>2.0</td>\n",
              "      <td>1</td>\n",
              "      <td>0</td>\n",
              "      <td>7583</td>\n",
              "      <td>187.0</td>\n",
              "      <td>1.0</td>\n",
              "      <td>Urban</td>\n",
              "      <td>Y</td>\n",
              "      <td>0</td>\n",
              "      <td>0</td>\n",
              "      <td>1</td>\n",
              "    </tr>\n",
              "    <tr>\n",
              "      <th>613</th>\n",
              "      <td>0</td>\n",
              "      <td>1</td>\n",
              "      <td>0.0</td>\n",
              "      <td>1</td>\n",
              "      <td>1</td>\n",
              "      <td>4583</td>\n",
              "      <td>133.0</td>\n",
              "      <td>0.0</td>\n",
              "      <td>Semiurban</td>\n",
              "      <td>N</td>\n",
              "      <td>0</td>\n",
              "      <td>1</td>\n",
              "      <td>0</td>\n",
              "    </tr>\n",
              "  </tbody>\n",
              "</table>\n",
              "<p>614 rows × 13 columns</p>\n",
              "</div>\n",
              "      <button class=\"colab-df-convert\" onclick=\"convertToInteractive('df-26566999-8964-4646-adfb-ae67abd79c42')\"\n",
              "              title=\"Convert this dataframe to an interactive table.\"\n",
              "              style=\"display:none;\">\n",
              "        \n",
              "  <svg xmlns=\"http://www.w3.org/2000/svg\" height=\"24px\"viewBox=\"0 0 24 24\"\n",
              "       width=\"24px\">\n",
              "    <path d=\"M0 0h24v24H0V0z\" fill=\"none\"/>\n",
              "    <path d=\"M18.56 5.44l.94 2.06.94-2.06 2.06-.94-2.06-.94-.94-2.06-.94 2.06-2.06.94zm-11 1L8.5 8.5l.94-2.06 2.06-.94-2.06-.94L8.5 2.5l-.94 2.06-2.06.94zm10 10l.94 2.06.94-2.06 2.06-.94-2.06-.94-.94-2.06-.94 2.06-2.06.94z\"/><path d=\"M17.41 7.96l-1.37-1.37c-.4-.4-.92-.59-1.43-.59-.52 0-1.04.2-1.43.59L10.3 9.45l-7.72 7.72c-.78.78-.78 2.05 0 2.83L4 21.41c.39.39.9.59 1.41.59.51 0 1.02-.2 1.41-.59l7.78-7.78 2.81-2.81c.8-.78.8-2.07 0-2.86zM5.41 20L4 18.59l7.72-7.72 1.47 1.35L5.41 20z\"/>\n",
              "  </svg>\n",
              "      </button>\n",
              "      \n",
              "  <style>\n",
              "    .colab-df-container {\n",
              "      display:flex;\n",
              "      flex-wrap:wrap;\n",
              "      gap: 12px;\n",
              "    }\n",
              "\n",
              "    .colab-df-convert {\n",
              "      background-color: #E8F0FE;\n",
              "      border: none;\n",
              "      border-radius: 50%;\n",
              "      cursor: pointer;\n",
              "      display: none;\n",
              "      fill: #1967D2;\n",
              "      height: 32px;\n",
              "      padding: 0 0 0 0;\n",
              "      width: 32px;\n",
              "    }\n",
              "\n",
              "    .colab-df-convert:hover {\n",
              "      background-color: #E2EBFA;\n",
              "      box-shadow: 0px 1px 2px rgba(60, 64, 67, 0.3), 0px 1px 3px 1px rgba(60, 64, 67, 0.15);\n",
              "      fill: #174EA6;\n",
              "    }\n",
              "\n",
              "    [theme=dark] .colab-df-convert {\n",
              "      background-color: #3B4455;\n",
              "      fill: #D2E3FC;\n",
              "    }\n",
              "\n",
              "    [theme=dark] .colab-df-convert:hover {\n",
              "      background-color: #434B5C;\n",
              "      box-shadow: 0px 1px 3px 1px rgba(0, 0, 0, 0.15);\n",
              "      filter: drop-shadow(0px 1px 2px rgba(0, 0, 0, 0.3));\n",
              "      fill: #FFFFFF;\n",
              "    }\n",
              "  </style>\n",
              "\n",
              "      <script>\n",
              "        const buttonEl =\n",
              "          document.querySelector('#df-26566999-8964-4646-adfb-ae67abd79c42 button.colab-df-convert');\n",
              "        buttonEl.style.display =\n",
              "          google.colab.kernel.accessAllowed ? 'block' : 'none';\n",
              "\n",
              "        async function convertToInteractive(key) {\n",
              "          const element = document.querySelector('#df-26566999-8964-4646-adfb-ae67abd79c42');\n",
              "          const dataTable =\n",
              "            await google.colab.kernel.invokeFunction('convertToInteractive',\n",
              "                                                     [key], {});\n",
              "          if (!dataTable) return;\n",
              "\n",
              "          const docLinkHtml = 'Like what you see? Visit the ' +\n",
              "            '<a target=\"_blank\" href=https://colab.research.google.com/notebooks/data_table.ipynb>data table notebook</a>'\n",
              "            + ' to learn more about interactive tables.';\n",
              "          element.innerHTML = '';\n",
              "          dataTable['output_type'] = 'display_data';\n",
              "          await google.colab.output.renderOutput(dataTable, element);\n",
              "          const docLink = document.createElement('div');\n",
              "          docLink.innerHTML = docLinkHtml;\n",
              "          element.appendChild(docLink);\n",
              "        }\n",
              "      </script>\n",
              "    </div>\n",
              "  </div>\n",
              "  "
            ]
          },
          "metadata": {},
          "execution_count": 124
        }
      ]
    },
    {
      "cell_type": "code",
      "source": [
        "\n",
        "\n",
        "df.drop('Location', axis=1, inplace=True)"
      ],
      "metadata": {
        "id": "x1ZMJV5p2mus"
      },
      "execution_count": 125,
      "outputs": []
    },
    {
      "cell_type": "code",
      "source": [
        "#renaming the column \n",
        "\n",
        "df = df.rename(columns={'Salary * 10E4': 'Salary'})\n",
        "\n",
        "\n",
        "\n"
      ],
      "metadata": {
        "id": "pyAwS66r3qVy"
      },
      "execution_count": 126,
      "outputs": []
    },
    {
      "cell_type": "code",
      "source": [
        "# encdoing the label\n",
        "df['Recruitment_Status'] = df['Recruitment_Status'].apply(lambda x: 0 if x==\"N\" else 1)"
      ],
      "metadata": {
        "id": "6mHc3z3F8S9a"
      },
      "execution_count": 127,
      "outputs": []
    },
    {
      "cell_type": "code",
      "source": [
        "df['Experience_Years'].value_counts()"
      ],
      "metadata": {
        "colab": {
          "base_uri": "https://localhost:8080/"
        },
        "id": "c45DVKF983-z",
        "outputId": "ee8199d7-bd82-4a29-b92f-c0863f9376bc"
      },
      "execution_count": 128,
      "outputs": [
        {
          "output_type": "execute_result",
          "data": {
            "text/plain": [
              "0.0    360\n",
              "1.0    102\n",
              "2.0    101\n",
              "3.0     51\n",
              "Name: Experience_Years, dtype: int64"
            ]
          },
          "metadata": {},
          "execution_count": 128
        }
      ]
    },
    {
      "cell_type": "code",
      "source": [
        "#Correlations \n"
      ],
      "metadata": {
        "id": "GBp_7Loezfch"
      },
      "execution_count": 129,
      "outputs": []
    },
    {
      "cell_type": "code",
      "source": [
        "\n",
        "\n",
        "df.corr()"
      ],
      "metadata": {
        "colab": {
          "base_uri": "https://localhost:8080/",
          "height": 490
        },
        "id": "blPX-F80v151",
        "outputId": "96e76ef7-cb00-40ad-a011-221a5dd1d7c0"
      },
      "execution_count": 130,
      "outputs": [
        {
          "output_type": "execute_result",
          "data": {
            "text/plain": [
              "                      Gender  Python_exp  Experience_Years  Education  \\\n",
              "Gender              1.000000   -0.336818          0.148500  -0.061497   \n",
              "Python_exp         -0.336818    1.000000         -0.334216   0.012304   \n",
              "Experience_Years    0.148500   -0.334216          1.000000  -0.055752   \n",
              "Education          -0.061497    0.012304         -0.055752   1.000000   \n",
              "Internship         -0.027421   -0.004489          0.056798   0.010383   \n",
              "Score               0.013838   -0.051968          0.118342   0.140661   \n",
              "Salary              0.063002   -0.150653          0.164792   0.165118   \n",
              "Offer_History       0.021612   -0.010938         -0.040160   0.073658   \n",
              "Recruitment_Status  0.025407   -0.091478          0.010118   0.085884   \n",
              "Location_Rural      0.075128    0.006805         -0.000816  -0.077520   \n",
              "Location_Semiurban -0.113069   -0.005845          0.001924   0.039410   \n",
              "Location_Urban      0.044109   -0.000546         -0.001198   0.034279   \n",
              "\n",
              "                    Internship     Score    Salary  Offer_History  \\\n",
              "Gender               -0.027421  0.013838  0.063002       0.021612   \n",
              "Python_exp           -0.004489 -0.051968 -0.150653      -0.010938   \n",
              "Experience_Years      0.056798  0.118342  0.164792      -0.040160   \n",
              "Education             0.010383  0.140661  0.165118       0.073658   \n",
              "Internship            1.000000  0.127254  0.116086      -0.001550   \n",
              "Score                 0.127254  1.000000  0.564352      -0.018693   \n",
              "Salary                0.116086  0.564352  1.000000      -0.002580   \n",
              "Offer_History        -0.001550 -0.018693 -0.002580       1.000000   \n",
              "Recruitment_Status   -0.003700 -0.004837 -0.038191       0.540556   \n",
              "Location_Rural        0.022065  0.015951  0.044890      -0.020906   \n",
              "Location_Semiurban    0.008710 -0.014098 -0.006008       0.035976   \n",
              "Location_Urban       -0.030338 -0.000868 -0.037216      -0.016934   \n",
              "\n",
              "                    Recruitment_Status  Location_Rural  Location_Semiurban  \\\n",
              "Gender                        0.025407        0.075128           -0.113069   \n",
              "Python_exp                   -0.091478        0.006805           -0.005845   \n",
              "Experience_Years              0.010118       -0.000816            0.001924   \n",
              "Education                     0.085884       -0.077520            0.039410   \n",
              "Internship                   -0.003700        0.022065            0.008710   \n",
              "Score                        -0.004837        0.015951           -0.014098   \n",
              "Salary                       -0.038191        0.044890           -0.006008   \n",
              "Offer_History                 0.540556       -0.020906            0.035976   \n",
              "Recruitment_Status            1.000000       -0.100694            0.136540   \n",
              "Location_Rural               -0.100694        1.000000           -0.501646   \n",
              "Location_Semiurban            0.136540       -0.501646            1.000000   \n",
              "Location_Urban               -0.043621       -0.449168           -0.547574   \n",
              "\n",
              "                    Location_Urban  \n",
              "Gender                    0.044109  \n",
              "Python_exp               -0.000546  \n",
              "Experience_Years         -0.001198  \n",
              "Education                 0.034279  \n",
              "Internship               -0.030338  \n",
              "Score                    -0.000868  \n",
              "Salary                   -0.037216  \n",
              "Offer_History            -0.016934  \n",
              "Recruitment_Status       -0.043621  \n",
              "Location_Rural           -0.449168  \n",
              "Location_Semiurban       -0.547574  \n",
              "Location_Urban            1.000000  "
            ],
            "text/html": [
              "\n",
              "  <div id=\"df-0d936db1-162d-4485-b9f4-6263570b97f6\">\n",
              "    <div class=\"colab-df-container\">\n",
              "      <div>\n",
              "<style scoped>\n",
              "    .dataframe tbody tr th:only-of-type {\n",
              "        vertical-align: middle;\n",
              "    }\n",
              "\n",
              "    .dataframe tbody tr th {\n",
              "        vertical-align: top;\n",
              "    }\n",
              "\n",
              "    .dataframe thead th {\n",
              "        text-align: right;\n",
              "    }\n",
              "</style>\n",
              "<table border=\"1\" class=\"dataframe\">\n",
              "  <thead>\n",
              "    <tr style=\"text-align: right;\">\n",
              "      <th></th>\n",
              "      <th>Gender</th>\n",
              "      <th>Python_exp</th>\n",
              "      <th>Experience_Years</th>\n",
              "      <th>Education</th>\n",
              "      <th>Internship</th>\n",
              "      <th>Score</th>\n",
              "      <th>Salary</th>\n",
              "      <th>Offer_History</th>\n",
              "      <th>Recruitment_Status</th>\n",
              "      <th>Location_Rural</th>\n",
              "      <th>Location_Semiurban</th>\n",
              "      <th>Location_Urban</th>\n",
              "    </tr>\n",
              "  </thead>\n",
              "  <tbody>\n",
              "    <tr>\n",
              "      <th>Gender</th>\n",
              "      <td>1.000000</td>\n",
              "      <td>-0.336818</td>\n",
              "      <td>0.148500</td>\n",
              "      <td>-0.061497</td>\n",
              "      <td>-0.027421</td>\n",
              "      <td>0.013838</td>\n",
              "      <td>0.063002</td>\n",
              "      <td>0.021612</td>\n",
              "      <td>0.025407</td>\n",
              "      <td>0.075128</td>\n",
              "      <td>-0.113069</td>\n",
              "      <td>0.044109</td>\n",
              "    </tr>\n",
              "    <tr>\n",
              "      <th>Python_exp</th>\n",
              "      <td>-0.336818</td>\n",
              "      <td>1.000000</td>\n",
              "      <td>-0.334216</td>\n",
              "      <td>0.012304</td>\n",
              "      <td>-0.004489</td>\n",
              "      <td>-0.051968</td>\n",
              "      <td>-0.150653</td>\n",
              "      <td>-0.010938</td>\n",
              "      <td>-0.091478</td>\n",
              "      <td>0.006805</td>\n",
              "      <td>-0.005845</td>\n",
              "      <td>-0.000546</td>\n",
              "    </tr>\n",
              "    <tr>\n",
              "      <th>Experience_Years</th>\n",
              "      <td>0.148500</td>\n",
              "      <td>-0.334216</td>\n",
              "      <td>1.000000</td>\n",
              "      <td>-0.055752</td>\n",
              "      <td>0.056798</td>\n",
              "      <td>0.118342</td>\n",
              "      <td>0.164792</td>\n",
              "      <td>-0.040160</td>\n",
              "      <td>0.010118</td>\n",
              "      <td>-0.000816</td>\n",
              "      <td>0.001924</td>\n",
              "      <td>-0.001198</td>\n",
              "    </tr>\n",
              "    <tr>\n",
              "      <th>Education</th>\n",
              "      <td>-0.061497</td>\n",
              "      <td>0.012304</td>\n",
              "      <td>-0.055752</td>\n",
              "      <td>1.000000</td>\n",
              "      <td>0.010383</td>\n",
              "      <td>0.140661</td>\n",
              "      <td>0.165118</td>\n",
              "      <td>0.073658</td>\n",
              "      <td>0.085884</td>\n",
              "      <td>-0.077520</td>\n",
              "      <td>0.039410</td>\n",
              "      <td>0.034279</td>\n",
              "    </tr>\n",
              "    <tr>\n",
              "      <th>Internship</th>\n",
              "      <td>-0.027421</td>\n",
              "      <td>-0.004489</td>\n",
              "      <td>0.056798</td>\n",
              "      <td>0.010383</td>\n",
              "      <td>1.000000</td>\n",
              "      <td>0.127254</td>\n",
              "      <td>0.116086</td>\n",
              "      <td>-0.001550</td>\n",
              "      <td>-0.003700</td>\n",
              "      <td>0.022065</td>\n",
              "      <td>0.008710</td>\n",
              "      <td>-0.030338</td>\n",
              "    </tr>\n",
              "    <tr>\n",
              "      <th>Score</th>\n",
              "      <td>0.013838</td>\n",
              "      <td>-0.051968</td>\n",
              "      <td>0.118342</td>\n",
              "      <td>0.140661</td>\n",
              "      <td>0.127254</td>\n",
              "      <td>1.000000</td>\n",
              "      <td>0.564352</td>\n",
              "      <td>-0.018693</td>\n",
              "      <td>-0.004837</td>\n",
              "      <td>0.015951</td>\n",
              "      <td>-0.014098</td>\n",
              "      <td>-0.000868</td>\n",
              "    </tr>\n",
              "    <tr>\n",
              "      <th>Salary</th>\n",
              "      <td>0.063002</td>\n",
              "      <td>-0.150653</td>\n",
              "      <td>0.164792</td>\n",
              "      <td>0.165118</td>\n",
              "      <td>0.116086</td>\n",
              "      <td>0.564352</td>\n",
              "      <td>1.000000</td>\n",
              "      <td>-0.002580</td>\n",
              "      <td>-0.038191</td>\n",
              "      <td>0.044890</td>\n",
              "      <td>-0.006008</td>\n",
              "      <td>-0.037216</td>\n",
              "    </tr>\n",
              "    <tr>\n",
              "      <th>Offer_History</th>\n",
              "      <td>0.021612</td>\n",
              "      <td>-0.010938</td>\n",
              "      <td>-0.040160</td>\n",
              "      <td>0.073658</td>\n",
              "      <td>-0.001550</td>\n",
              "      <td>-0.018693</td>\n",
              "      <td>-0.002580</td>\n",
              "      <td>1.000000</td>\n",
              "      <td>0.540556</td>\n",
              "      <td>-0.020906</td>\n",
              "      <td>0.035976</td>\n",
              "      <td>-0.016934</td>\n",
              "    </tr>\n",
              "    <tr>\n",
              "      <th>Recruitment_Status</th>\n",
              "      <td>0.025407</td>\n",
              "      <td>-0.091478</td>\n",
              "      <td>0.010118</td>\n",
              "      <td>0.085884</td>\n",
              "      <td>-0.003700</td>\n",
              "      <td>-0.004837</td>\n",
              "      <td>-0.038191</td>\n",
              "      <td>0.540556</td>\n",
              "      <td>1.000000</td>\n",
              "      <td>-0.100694</td>\n",
              "      <td>0.136540</td>\n",
              "      <td>-0.043621</td>\n",
              "    </tr>\n",
              "    <tr>\n",
              "      <th>Location_Rural</th>\n",
              "      <td>0.075128</td>\n",
              "      <td>0.006805</td>\n",
              "      <td>-0.000816</td>\n",
              "      <td>-0.077520</td>\n",
              "      <td>0.022065</td>\n",
              "      <td>0.015951</td>\n",
              "      <td>0.044890</td>\n",
              "      <td>-0.020906</td>\n",
              "      <td>-0.100694</td>\n",
              "      <td>1.000000</td>\n",
              "      <td>-0.501646</td>\n",
              "      <td>-0.449168</td>\n",
              "    </tr>\n",
              "    <tr>\n",
              "      <th>Location_Semiurban</th>\n",
              "      <td>-0.113069</td>\n",
              "      <td>-0.005845</td>\n",
              "      <td>0.001924</td>\n",
              "      <td>0.039410</td>\n",
              "      <td>0.008710</td>\n",
              "      <td>-0.014098</td>\n",
              "      <td>-0.006008</td>\n",
              "      <td>0.035976</td>\n",
              "      <td>0.136540</td>\n",
              "      <td>-0.501646</td>\n",
              "      <td>1.000000</td>\n",
              "      <td>-0.547574</td>\n",
              "    </tr>\n",
              "    <tr>\n",
              "      <th>Location_Urban</th>\n",
              "      <td>0.044109</td>\n",
              "      <td>-0.000546</td>\n",
              "      <td>-0.001198</td>\n",
              "      <td>0.034279</td>\n",
              "      <td>-0.030338</td>\n",
              "      <td>-0.000868</td>\n",
              "      <td>-0.037216</td>\n",
              "      <td>-0.016934</td>\n",
              "      <td>-0.043621</td>\n",
              "      <td>-0.449168</td>\n",
              "      <td>-0.547574</td>\n",
              "      <td>1.000000</td>\n",
              "    </tr>\n",
              "  </tbody>\n",
              "</table>\n",
              "</div>\n",
              "      <button class=\"colab-df-convert\" onclick=\"convertToInteractive('df-0d936db1-162d-4485-b9f4-6263570b97f6')\"\n",
              "              title=\"Convert this dataframe to an interactive table.\"\n",
              "              style=\"display:none;\">\n",
              "        \n",
              "  <svg xmlns=\"http://www.w3.org/2000/svg\" height=\"24px\"viewBox=\"0 0 24 24\"\n",
              "       width=\"24px\">\n",
              "    <path d=\"M0 0h24v24H0V0z\" fill=\"none\"/>\n",
              "    <path d=\"M18.56 5.44l.94 2.06.94-2.06 2.06-.94-2.06-.94-.94-2.06-.94 2.06-2.06.94zm-11 1L8.5 8.5l.94-2.06 2.06-.94-2.06-.94L8.5 2.5l-.94 2.06-2.06.94zm10 10l.94 2.06.94-2.06 2.06-.94-2.06-.94-.94-2.06-.94 2.06-2.06.94z\"/><path d=\"M17.41 7.96l-1.37-1.37c-.4-.4-.92-.59-1.43-.59-.52 0-1.04.2-1.43.59L10.3 9.45l-7.72 7.72c-.78.78-.78 2.05 0 2.83L4 21.41c.39.39.9.59 1.41.59.51 0 1.02-.2 1.41-.59l7.78-7.78 2.81-2.81c.8-.78.8-2.07 0-2.86zM5.41 20L4 18.59l7.72-7.72 1.47 1.35L5.41 20z\"/>\n",
              "  </svg>\n",
              "      </button>\n",
              "      \n",
              "  <style>\n",
              "    .colab-df-container {\n",
              "      display:flex;\n",
              "      flex-wrap:wrap;\n",
              "      gap: 12px;\n",
              "    }\n",
              "\n",
              "    .colab-df-convert {\n",
              "      background-color: #E8F0FE;\n",
              "      border: none;\n",
              "      border-radius: 50%;\n",
              "      cursor: pointer;\n",
              "      display: none;\n",
              "      fill: #1967D2;\n",
              "      height: 32px;\n",
              "      padding: 0 0 0 0;\n",
              "      width: 32px;\n",
              "    }\n",
              "\n",
              "    .colab-df-convert:hover {\n",
              "      background-color: #E2EBFA;\n",
              "      box-shadow: 0px 1px 2px rgba(60, 64, 67, 0.3), 0px 1px 3px 1px rgba(60, 64, 67, 0.15);\n",
              "      fill: #174EA6;\n",
              "    }\n",
              "\n",
              "    [theme=dark] .colab-df-convert {\n",
              "      background-color: #3B4455;\n",
              "      fill: #D2E3FC;\n",
              "    }\n",
              "\n",
              "    [theme=dark] .colab-df-convert:hover {\n",
              "      background-color: #434B5C;\n",
              "      box-shadow: 0px 1px 3px 1px rgba(0, 0, 0, 0.15);\n",
              "      filter: drop-shadow(0px 1px 2px rgba(0, 0, 0, 0.3));\n",
              "      fill: #FFFFFF;\n",
              "    }\n",
              "  </style>\n",
              "\n",
              "      <script>\n",
              "        const buttonEl =\n",
              "          document.querySelector('#df-0d936db1-162d-4485-b9f4-6263570b97f6 button.colab-df-convert');\n",
              "        buttonEl.style.display =\n",
              "          google.colab.kernel.accessAllowed ? 'block' : 'none';\n",
              "\n",
              "        async function convertToInteractive(key) {\n",
              "          const element = document.querySelector('#df-0d936db1-162d-4485-b9f4-6263570b97f6');\n",
              "          const dataTable =\n",
              "            await google.colab.kernel.invokeFunction('convertToInteractive',\n",
              "                                                     [key], {});\n",
              "          if (!dataTable) return;\n",
              "\n",
              "          const docLinkHtml = 'Like what you see? Visit the ' +\n",
              "            '<a target=\"_blank\" href=https://colab.research.google.com/notebooks/data_table.ipynb>data table notebook</a>'\n",
              "            + ' to learn more about interactive tables.';\n",
              "          element.innerHTML = '';\n",
              "          dataTable['output_type'] = 'display_data';\n",
              "          await google.colab.output.renderOutput(dataTable, element);\n",
              "          const docLink = document.createElement('div');\n",
              "          docLink.innerHTML = docLinkHtml;\n",
              "          element.appendChild(docLink);\n",
              "        }\n",
              "      </script>\n",
              "    </div>\n",
              "  </div>\n",
              "  "
            ]
          },
          "metadata": {},
          "execution_count": 130
        }
      ]
    },
    {
      "cell_type": "code",
      "source": [
        "import seaborn as sns\n",
        "corr = df.corr()\n",
        "\n",
        "plt.figure()\n",
        "sns.heatmap(corr)\n",
        "plt.show()\n",
        "\n",
        "#Of the basis of the correlation heatmap we can see that with the exception of 'Offer_History' there is no strong correlation with our class label, \n",
        "#As there seem to be some indirectt correltations with the label through some of the correltations between the features that seem to be moderatly or weakly related to the label, I decided to keep\n",
        "#all the features for our ML training. \n",
        "\n"
      ],
      "metadata": {
        "colab": {
          "base_uri": "https://localhost:8080/",
          "height": 361
        },
        "id": "VbF_oKVvCCjD",
        "outputId": "c925a31d-4d16-44dc-d475-bf111b54d255"
      },
      "execution_count": 131,
      "outputs": [
        {
          "output_type": "display_data",
          "data": {
            "text/plain": [
              "<Figure size 432x288 with 2 Axes>"
            ],
            "image/png": "[encoded data removed]"
          },
          "metadata": {
            "needs_background": "light"
          }
        }
      ]
    },
    {
      "cell_type": "code",
      "source": [
        ""
      ],
      "metadata": {
        "id": "q7cbhiJ2_7Ad"
      },
      "execution_count": 131,
      "outputs": []
    },
    {
      "cell_type": "markdown",
      "source": [
        "Q. Is there any imbalance in the label\n",
        "?"
      ],
      "metadata": {
        "id": "EUIqah7h_LAW"
      }
    },
    {
      "cell_type": "code",
      "source": [
        "#No action need as the label is a binary value"
      ],
      "metadata": {
        "id": "puZaHYIU_Pif"
      },
      "execution_count": 132,
      "outputs": []
    },
    {
      "cell_type": "markdown",
      "source": [
        "Q. Are there any outliers in the dataset? What do you do with them?"
      ],
      "metadata": {
        "id": "v9gQBGnZ_QiC"
      }
    },
    {
      "cell_type": "code",
      "source": [
        "#Using boxplot to identify the outliers\n",
        "#I have tried to split the data into 5 categories as to neturalise the outliers however this gave me a lower accuracy in the best performing model, so in the end I did not process the outliers. \n",
        "\n",
        "#print(df['Salary'].median())\n",
        "sns.boxplot(data=df['Salary'])\n",
        "\n",
        "\n",
        "\n",
        "def categories(num):\n",
        "  if num < 20:\n",
        "    return 0\n",
        "  elif num < 100:\n",
        "    return 1\n",
        "  elif num < 200:\n",
        "    return 2\n",
        "  elif num < 300:\n",
        "    return 3\n",
        "  else:\n",
        "    return 4\n",
        "  \n",
        "#df['Salary'] = df['Salary'].apply(lambda x: categories(x))\n",
        "\n",
        "#data = np.array(df['Salary'])\n",
        "#print(data)\n",
        "#z = stats.zscore(data)\n",
        "\n",
        "\n",
        "\n",
        "\n",
        "\n",
        "\n",
        "\n"
      ],
      "metadata": {
        "id": "qKUVWPJq_fTq",
        "colab": {
          "base_uri": "https://localhost:8080/",
          "height": 265
        },
        "outputId": "790f7b30-7f4f-4af6-98ba-ee45cd18395d"
      },
      "execution_count": 133,
      "outputs": [
        {
          "output_type": "display_data",
          "data": {
            "text/plain": [
              "<Figure size 432x288 with 1 Axes>"
            ],
            "image/png": "[encoded data removed]"
          },
          "metadata": {
            "needs_background": "light"
          }
        }
      ]
    },
    {
      "cell_type": "code",
      "source": [
        ""
      ],
      "metadata": {
        "id": "5DHroyhJc_0h"
      },
      "execution_count": 133,
      "outputs": []
    },
    {
      "cell_type": "code",
      "source": [
        "# trying a similar classification as above.It did not change the accuracy to a great deal (there was a slight discrease in some models and slight increase in others)\n",
        "#so i decided to leave the feature as it is. I wanted to process the outliers with the Z-score method, but I was running out of time.\n",
        "sns.boxplot(data=df['Score'])\n",
        "\n",
        "\n",
        "def categories(num):\n",
        "  if num < 1000:\n",
        "    return 0\n",
        "  elif num < 3000:\n",
        "    return 1\n",
        "  elif num < 7000:\n",
        "    return 2\n",
        "  elif num < 12000:\n",
        "    return 3\n",
        "  else:\n",
        "    return 4\n",
        "  \n",
        "#df['Score'] = df['Score'].apply(lambda x: categories(x))\n",
        "#data = np.array(df['Score'])\n",
        "#print(data)\n",
        "#z = stats.zscore(data)\n",
        "#print(z)\n",
        "\n"
      ],
      "metadata": {
        "id": "VhQUlJg7XCDf",
        "outputId": "1bd5dcc5-8407-4386-95a5-53175a5a36ed",
        "colab": {
          "base_uri": "https://localhost:8080/",
          "height": 265
        }
      },
      "execution_count": 134,
      "outputs": [
        {
          "output_type": "display_data",
          "data": {
            "text/plain": [
              "<Figure size 432x288 with 1 Axes>"
            ],
            "image/png": "[encoded data removed]"
          },
          "metadata": {
            "needs_background": "light"
          }
        }
      ]
    },
    {
      "cell_type": "markdown",
      "source": [
        "Q. Are there any strings in the features that need to be converted to integers? Do you select One-Hot encoding or Label Encoding?"
      ],
      "metadata": {
        "id": "v3SRFiXRAzzu"
      }
    },
    {
      "cell_type": "code",
      "source": [
        "# I have already processed the feuateres above, using lambda functions and panda dummies."
      ],
      "metadata": {
        "id": "feWeqNtzOTWv"
      },
      "execution_count": 135,
      "outputs": []
    },
    {
      "cell_type": "code",
      "source": [
        ""
      ],
      "metadata": {
        "id": "Yke5HMI2G4Yx"
      },
      "execution_count": 135,
      "outputs": []
    },
    {
      "cell_type": "markdown",
      "source": [
        "Q. Split the data for TRAINING and SCORING (testing). OPTIONAL: Discuss what problems could happen we have poor distribution b/w training and testing?"
      ],
      "metadata": {
        "id": "TxPO0Ch5Pv3F"
      }
    },
    {
      "cell_type": "code",
      "source": [
        "#Spliting the data for training and scoring. \n",
        "#Trying out different configurations. The outcome is highly dependant on one variable 'Offer_History', next in importance is the 'location' where as the other features have only a slight impact on the general score.\n",
        "\n",
        "features = ['Gender',\t'Python_exp',\t'Experience_Years',\t'Education',\t'Internship',\t'Salary', 'Score',\t'Offer_History',\t'Location_Rural',\t'Location_Urban','Location_Semiurban']\n",
        "#features = ['Score',\t'Offer_History', 'Location_Rural',\t'Location_Urban','Location_Semiurban']\n",
        "#features = ['Experience_Years',\t'Education','Salary','Location_Rural',\t'Location_Urban','Location_Semiurban']\n",
        "x = df.loc[:, features]\n",
        "y = df.loc[:, 'Recruitment_Status']\n",
        "x.dropna(inplace=True)\n",
        "y = y.iloc[x.index]\n",
        "print(x.shape)\n",
        "print(y.shape)\n",
        "x.head()"
      ],
      "metadata": {
        "id": "W1XMipDDMiCG",
        "colab": {
          "base_uri": "https://localhost:8080/",
          "height": 241
        },
        "outputId": "326a64a0-8fcc-410e-ee92-584bbd498b30"
      },
      "execution_count": 136,
      "outputs": [
        {
          "output_type": "stream",
          "name": "stdout",
          "text": [
            "(614, 11)\n",
            "(614,)\n"
          ]
        },
        {
          "output_type": "execute_result",
          "data": {
            "text/plain": [
              "   Gender  Python_exp  Experience_Years  Education  Internship  Salary  Score  \\\n",
              "0       1           1               0.0          1           0     0.0   5139   \n",
              "1       1           0               1.0          1           0   128.0   4583   \n",
              "2       1           0               0.0          1           1    66.0   3000   \n",
              "3       1           0               0.0          0           0   120.0   2583   \n",
              "4       1           1               0.0          1           0   141.0   6000   \n",
              "\n",
              "   Offer_History  Location_Rural  Location_Urban  Location_Semiurban  \n",
              "0            1.0               0               1                   0  \n",
              "1            1.0               1               0                   0  \n",
              "2            1.0               0               1                   0  \n",
              "3            1.0               0               1                   0  \n",
              "4            1.0               0               1                   0  "
            ],
            "text/html": [
              "\n",
              "  <div id=\"df-6795f8eb-944a-4f92-91c9-87ec2f8fd1ef\">\n",
              "    <div class=\"colab-df-container\">\n",
              "      <div>\n",
              "<style scoped>\n",
              "    .dataframe tbody tr th:only-of-type {\n",
              "        vertical-align: middle;\n",
              "    }\n",
              "\n",
              "    .dataframe tbody tr th {\n",
              "        vertical-align: top;\n",
              "    }\n",
              "\n",
              "    .dataframe thead th {\n",
              "        text-align: right;\n",
              "    }\n",
              "</style>\n",
              "<table border=\"1\" class=\"dataframe\">\n",
              "  <thead>\n",
              "    <tr style=\"text-align: right;\">\n",
              "      <th></th>\n",
              "      <th>Gender</th>\n",
              "      <th>Python_exp</th>\n",
              "      <th>Experience_Years</th>\n",
              "      <th>Education</th>\n",
              "      <th>Internship</th>\n",
              "      <th>Salary</th>\n",
              "      <th>Score</th>\n",
              "      <th>Offer_History</th>\n",
              "      <th>Location_Rural</th>\n",
              "      <th>Location_Urban</th>\n",
              "      <th>Location_Semiurban</th>\n",
              "    </tr>\n",
              "  </thead>\n",
              "  <tbody>\n",
              "    <tr>\n",
              "      <th>0</th>\n",
              "      <td>1</td>\n",
              "      <td>1</td>\n",
              "      <td>0.0</td>\n",
              "      <td>1</td>\n",
              "      <td>0</td>\n",
              "      <td>0.0</td>\n",
              "      <td>5139</td>\n",
              "      <td>1.0</td>\n",
              "      <td>0</td>\n",
              "      <td>1</td>\n",
              "      <td>0</td>\n",
              "    </tr>\n",
              "    <tr>\n",
              "      <th>1</th>\n",
              "      <td>1</td>\n",
              "      <td>0</td>\n",
              "      <td>1.0</td>\n",
              "      <td>1</td>\n",
              "      <td>0</td>\n",
              "      <td>128.0</td>\n",
              "      <td>4583</td>\n",
              "      <td>1.0</td>\n",
              "      <td>1</td>\n",
              "      <td>0</td>\n",
              "      <td>0</td>\n",
              "    </tr>\n",
              "    <tr>\n",
              "      <th>2</th>\n",
              "      <td>1</td>\n",
              "      <td>0</td>\n",
              "      <td>0.0</td>\n",
              "      <td>1</td>\n",
              "      <td>1</td>\n",
              "      <td>66.0</td>\n",
              "      <td>3000</td>\n",
              "      <td>1.0</td>\n",
              "      <td>0</td>\n",
              "      <td>1</td>\n",
              "      <td>0</td>\n",
              "    </tr>\n",
              "    <tr>\n",
              "      <th>3</th>\n",
              "      <td>1</td>\n",
              "      <td>0</td>\n",
              "      <td>0.0</td>\n",
              "      <td>0</td>\n",
              "      <td>0</td>\n",
              "      <td>120.0</td>\n",
              "      <td>2583</td>\n",
              "      <td>1.0</td>\n",
              "      <td>0</td>\n",
              "      <td>1</td>\n",
              "      <td>0</td>\n",
              "    </tr>\n",
              "    <tr>\n",
              "      <th>4</th>\n",
              "      <td>1</td>\n",
              "      <td>1</td>\n",
              "      <td>0.0</td>\n",
              "      <td>1</td>\n",
              "      <td>0</td>\n",
              "      <td>141.0</td>\n",
              "      <td>6000</td>\n",
              "      <td>1.0</td>\n",
              "      <td>0</td>\n",
              "      <td>1</td>\n",
              "      <td>0</td>\n",
              "    </tr>\n",
              "  </tbody>\n",
              "</table>\n",
              "</div>\n",
              "      <button class=\"colab-df-convert\" onclick=\"convertToInteractive('df-6795f8eb-944a-4f92-91c9-87ec2f8fd1ef')\"\n",
              "              title=\"Convert this dataframe to an interactive table.\"\n",
              "              style=\"display:none;\">\n",
              "        \n",
              "  <svg xmlns=\"http://www.w3.org/2000/svg\" height=\"24px\"viewBox=\"0 0 24 24\"\n",
              "       width=\"24px\">\n",
              "    <path d=\"M0 0h24v24H0V0z\" fill=\"none\"/>\n",
              "    <path d=\"M18.56 5.44l.94 2.06.94-2.06 2.06-.94-2.06-.94-.94-2.06-.94 2.06-2.06.94zm-11 1L8.5 8.5l.94-2.06 2.06-.94-2.06-.94L8.5 2.5l-.94 2.06-2.06.94zm10 10l.94 2.06.94-2.06 2.06-.94-2.06-.94-.94-2.06-.94 2.06-2.06.94z\"/><path d=\"M17.41 7.96l-1.37-1.37c-.4-.4-.92-.59-1.43-.59-.52 0-1.04.2-1.43.59L10.3 9.45l-7.72 7.72c-.78.78-.78 2.05 0 2.83L4 21.41c.39.39.9.59 1.41.59.51 0 1.02-.2 1.41-.59l7.78-7.78 2.81-2.81c.8-.78.8-2.07 0-2.86zM5.41 20L4 18.59l7.72-7.72 1.47 1.35L5.41 20z\"/>\n",
              "  </svg>\n",
              "      </button>\n",
              "      \n",
              "  <style>\n",
              "    .colab-df-container {\n",
              "      display:flex;\n",
              "      flex-wrap:wrap;\n",
              "      gap: 12px;\n",
              "    }\n",
              "\n",
              "    .colab-df-convert {\n",
              "      background-color: #E8F0FE;\n",
              "      border: none;\n",
              "      border-radius: 50%;\n",
              "      cursor: pointer;\n",
              "      display: none;\n",
              "      fill: #1967D2;\n",
              "      height: 32px;\n",
              "      padding: 0 0 0 0;\n",
              "      width: 32px;\n",
              "    }\n",
              "\n",
              "    .colab-df-convert:hover {\n",
              "      background-color: #E2EBFA;\n",
              "      box-shadow: 0px 1px 2px rgba(60, 64, 67, 0.3), 0px 1px 3px 1px rgba(60, 64, 67, 0.15);\n",
              "      fill: #174EA6;\n",
              "    }\n",
              "\n",
              "    [theme=dark] .colab-df-convert {\n",
              "      background-color: #3B4455;\n",
              "      fill: #D2E3FC;\n",
              "    }\n",
              "\n",
              "    [theme=dark] .colab-df-convert:hover {\n",
              "      background-color: #434B5C;\n",
              "      box-shadow: 0px 1px 3px 1px rgba(0, 0, 0, 0.15);\n",
              "      filter: drop-shadow(0px 1px 2px rgba(0, 0, 0, 0.3));\n",
              "      fill: #FFFFFF;\n",
              "    }\n",
              "  </style>\n",
              "\n",
              "      <script>\n",
              "        const buttonEl =\n",
              "          document.querySelector('#df-6795f8eb-944a-4f92-91c9-87ec2f8fd1ef button.colab-df-convert');\n",
              "        buttonEl.style.display =\n",
              "          google.colab.kernel.accessAllowed ? 'block' : 'none';\n",
              "\n",
              "        async function convertToInteractive(key) {\n",
              "          const element = document.querySelector('#df-6795f8eb-944a-4f92-91c9-87ec2f8fd1ef');\n",
              "          const dataTable =\n",
              "            await google.colab.kernel.invokeFunction('convertToInteractive',\n",
              "                                                     [key], {});\n",
              "          if (!dataTable) return;\n",
              "\n",
              "          const docLinkHtml = 'Like what you see? Visit the ' +\n",
              "            '<a target=\"_blank\" href=https://colab.research.google.com/notebooks/data_table.ipynb>data table notebook</a>'\n",
              "            + ' to learn more about interactive tables.';\n",
              "          element.innerHTML = '';\n",
              "          dataTable['output_type'] = 'display_data';\n",
              "          await google.colab.output.renderOutput(dataTable, element);\n",
              "          const docLink = document.createElement('div');\n",
              "          docLink.innerHTML = docLinkHtml;\n",
              "          element.appendChild(docLink);\n",
              "        }\n",
              "      </script>\n",
              "    </div>\n",
              "  </div>\n",
              "  "
            ]
          },
          "metadata": {},
          "execution_count": 136
        }
      ]
    },
    {
      "cell_type": "code",
      "source": [
        "from sklearn.model_selection import train_test_split\n",
        "xtrain,xtest,ytrain,ytest = train_test_split(x, y,test_size=0.2, random_state=42)"
      ],
      "metadata": {
        "id": "HEXMOvgfHAC5"
      },
      "execution_count": 137,
      "outputs": []
    },
    {
      "cell_type": "markdown",
      "metadata": {
        "id": "s5jKhdFd55WJ"
      },
      "source": [
        "# Part 3: Model Selection"
      ]
    },
    {
      "cell_type": "markdown",
      "metadata": {
        "id": "bosw1yWg55WJ"
      },
      "source": [
        "### Q. Use the cheat sheet below to choose the algorithm/estimator suitable for building a model to address your candidate question(s)\n",
        "\n",
        "* https://scikit-learn.org/stable/tutorial/machine_learning_map/"
      ]
    },
    {
      "cell_type": "code",
      "source": [
        "#After spliting the data we are trying out dfferent ML models and assesing their accuracy and AUC (AUC is relevant here as it is ametric utilizes probabilities of class prediction)\n",
        "\n",
        "from sklearn.ensemble import RandomForestClassifier\n",
        "from sklearn.naive_bayes import GaussianNB\n",
        "from sklearn.tree import DecisionTreeClassifier\n",
        "from sklearn.neighbors import KNeighborsClassifier\n",
        "from sklearn.linear_model import LogisticRegression\n",
        "from sklearn.ensemble import GradientBoostingClassifier\n",
        "\n",
        "\n",
        "ntree1, ntree2 = 60,120\n",
        "from sklearn.metrics import accuracy_score\n",
        "from sklearn import model_selection\n",
        "for algo in [RandomForestClassifier(n_estimators=ntree1), RandomForestClassifier(n_estimators=ntree2), GaussianNB(), DecisionTreeClassifier(), KNeighborsClassifier(), GradientBoostingClassifier(n_estimators=80, random_state=2)]:\n",
        "  model = algo\n",
        "  model.fit(xtrain, ytrain)\n",
        "  predictions = model.predict(xtest)\n",
        "  print(f'The accuracy score for {model}: {round(accuracy_score(predictions, ytest),2)}')\n",
        "  results = model_selection.cross_val_score(model,x , y, scoring='roc_auc')\n",
        "  print(f'The AUC for the same model: {round(results.mean(),2)}\\n')\n"
      ],
      "metadata": {
        "id": "39bauCNWR2ve",
        "colab": {
          "base_uri": "https://localhost:8080/"
        },
        "outputId": "41b2df72-52af-4b2a-f351-83bf0280add5"
      },
      "execution_count": 138,
      "outputs": [
        {
          "output_type": "stream",
          "name": "stdout",
          "text": [
            "The accuracy score for RandomForestClassifier(n_estimators=60): 0.75\n",
            "The AUC for the same model: 0.72\n",
            "\n",
            "The accuracy score for RandomForestClassifier(n_estimators=120): 0.77\n",
            "The AUC for the same model: 0.74\n",
            "\n",
            "The accuracy score for GaussianNB(): 0.79\n",
            "The AUC for the same model: 0.75\n",
            "\n",
            "The accuracy score for DecisionTreeClassifier(): 0.69\n",
            "The AUC for the same model: 0.66\n",
            "\n",
            "The accuracy score for KNeighborsClassifier(): 0.64\n",
            "The AUC for the same model: 0.51\n",
            "\n",
            "The accuracy score for GradientBoostingClassifier(n_estimators=80, random_state=2): 0.78\n",
            "The AUC for the same model: 0.71\n",
            "\n"
          ]
        }
      ]
    },
    {
      "cell_type": "code",
      "source": [
        ""
      ],
      "metadata": {
        "id": "74GVoasNPRIL"
      },
      "execution_count": 138,
      "outputs": []
    },
    {
      "cell_type": "markdown",
      "metadata": {
        "id": "6SK8nej055WJ"
      },
      "source": [
        ""
      ]
    },
    {
      "cell_type": "markdown",
      "metadata": {
        "id": "gB-pblb255WJ"
      },
      "source": [
        "# Part 4: Model Evaluation"
      ]
    },
    {
      "cell_type": "markdown",
      "metadata": {
        "id": "w231rWpm55WK"
      },
      "source": [
        "### Q. Identify which of the statistical measures below are suitable for the evaluation of your model.\n",
        "\n",
        "Classification Metrics:\n",
        "* Accuracy\n",
        "* Precision\n",
        "* Recall\n",
        "* F1 Score\n",
        "\n",
        "Regression Metrics:\n",
        "    \n",
        "* Mean absolute error (MAE)\n",
        "* Root mean squared error (RMSE)\n",
        "* Relative absolute error (RAE)\n",
        "* Relative squared error (RSE)\n",
        "* Mean Zero One Error (MZOE)\n",
        "* Coefficient of determination\n",
        "\n",
        " "
      ]
    },
    {
      "cell_type": "code",
      "execution_count": 139,
      "metadata": {
        "id": "MKlEwnam55WK",
        "colab": {
          "base_uri": "https://localhost:8080/"
        },
        "outputId": "a957c6a9-7d69-43b6-8928-349d32501deb"
      },
      "outputs": [
        {
          "output_type": "stream",
          "name": "stdout",
          "text": [
            "The accuracy score for GradientBoostingClassifier(n_estimators=80, random_state=2): 0.78\n",
            "The AUC for the same model: 0.71\n",
            "\n"
          ]
        }
      ],
      "source": [
        "#In the end I have identified the Gaussian Naive Bayes model as best the performing model(according to accuracy and AUC measuers) and so the most suitable model to address our question'\n",
        "#The model shows relatively high confindece of predicting the outcome on the basis of the provided features. \n",
        "\n",
        "final_model = GaussianNB()\n",
        "final_model.fit(xtrain,ytrain)\n",
        "p = final_model.predict(xtest)\n",
        "print(f'The accuracy score for {model}: {round(accuracy_score(predictions, ytest),2)}')\n",
        "results = model_selection.cross_val_score(model,x , y, scoring='roc_auc')\n",
        "print(f'The AUC for the same model: {round(results.mean(),2)}\\n')\n",
        "\n"
      ]
    },
    {
      "cell_type": "markdown",
      "metadata": {
        "id": "V_GR5s4K55WK"
      },
      "source": [
        "# Part 5: Stretch - Model Deployment"
      ]
    },
    {
      "cell_type": "markdown",
      "metadata": {
        "id": "0g_JJnoh55WL"
      },
      "source": [
        "### Q. Evaluate the open-source app framework for Machine Learning model deployment below in your own time.\n",
        "\n",
        "* https://streamlit.io/"
      ]
    },
    {
      "cell_type": "code",
      "execution_count": 140,
      "metadata": {
        "id": "ghIEovDv55WL"
      },
      "outputs": [],
      "source": [
        "# EXPORT your model and upload to azure\n",
        "# deploy to Azure Container Instance\n",
        "# after 20-30 mins, consume tab will appear in your ENDPOINT\n",
        "# and then paste the PYTHON code below!"
      ]
    },
    {
      "cell_type": "code",
      "source": [
        ""
      ],
      "metadata": {
        "id": "mS9l7kc09sse"
      },
      "execution_count": 140,
      "outputs": []
    }
  ],
  "metadata": {
    "kernelspec": {
      "display_name": "Python 3",
      "language": "python",
      "name": "python3"
    },
    "language_info": {
      "codemirror_mode": {
        "name": "ipython",
        "version": 3
      },
      "file_extension": ".py",
      "mimetype": "text/x-python",
      "name": "python",
      "nbconvert_exporter": "python",
      "pygments_lexer": "ipython3",
      "version": "3.7.4"
    },
    "colab": {
      "name": "Copy of FinalProject:Choosing_the_right_estimator.ipynb",
      "provenance": [],
      "include_colab_link": true
    }
  },
  "nbformat": 4,
  "nbformat_minor": 0
}